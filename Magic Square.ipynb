{
 "cells": [
  {
   "cell_type": "code",
   "execution_count": 9,
   "id": "37683ef9",
   "metadata": {},
   "outputs": [
    {
     "name": "stdout",
     "output_type": "stream",
     "text": [
      "Enter the size of matrix : 7\n",
      "Constant value :  175 \n",
      "\n",
      "[[30 39 48  1 10 19 28]\n",
      " [38 47  7  9 18 27 29]\n",
      " [46  6  8 17 26 35 37]\n",
      " [ 5 14 16 25 34 36 45]\n",
      " [13 15 24 33 42 44  4]\n",
      " [21 23 32 41 43  3 12]\n",
      " [22 31 40 49  2 11 20]]\n"
     ]
    }
   ],
   "source": [
    "import numpy as np\n",
    "\n",
    "def magic_square_upright():\n",
    "    n = int(input(\"Enter the size of matrix : \"))\n",
    "    arr1 = [[0 for x in range(n)] for y in range(n)]\n",
    "    arr = np.array(arr1)\n",
    "    i = 0\n",
    "    j = n//2\n",
    "    arr[i,j] = 1\n",
    "    constant = int(n*(n**2 + 1)/2)\n",
    "    \n",
    "    for k in range(2,n*n+1):\n",
    "        i-=1\n",
    "        j+=1\n",
    "        if(j == n):\n",
    "            j = 0\n",
    "        elif(i == -1):\n",
    "            i = n-1\n",
    "        if((i==-1 and j==n) or (arr[i,j] != 0)):\n",
    "            i+=2\n",
    "            j-=1\n",
    "        arr[i,j] = k\n",
    "    print(\"Constant value : \",constant,\"\\n\")\n",
    "    print(arr)\n",
    "\n",
    "magic_square_upright()\n",
    "   "
   ]
  },
  {
   "cell_type": "code",
   "execution_count": null,
   "id": "cbb4a50d",
   "metadata": {},
   "outputs": [],
   "source": []
  }
 ],
 "metadata": {
  "kernelspec": {
   "display_name": "Python 3",
   "language": "python",
   "name": "python3"
  },
  "language_info": {
   "codemirror_mode": {
    "name": "ipython",
    "version": 3
   },
   "file_extension": ".py",
   "mimetype": "text/x-python",
   "name": "python",
   "nbconvert_exporter": "python",
   "pygments_lexer": "ipython3",
   "version": "3.8.8"
  }
 },
 "nbformat": 4,
 "nbformat_minor": 5
}
