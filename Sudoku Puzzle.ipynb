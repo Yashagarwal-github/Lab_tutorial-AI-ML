{
 "cells": [
  {
   "cell_type": "code",
   "execution_count": 2,
   "id": "e8b67b64",
   "metadata": {},
   "outputs": [
    {
     "name": "stdout",
     "output_type": "stream",
     "text": [
      "9 7 4 6 8 5 3 2 1 \n",
      "2 6 1 7 3 4 9 8 5 \n",
      "8 3 5 2 1 9 6 4 7 \n",
      "3 1 9 5 6 8 2 7 4 \n",
      "7 8 6 3 4 2 1 5 9 \n",
      "4 5 2 1 9 7 8 3 6 \n",
      "5 4 3 9 2 6 7 1 8 \n",
      "6 2 7 8 5 1 4 9 3 \n",
      "1 9 8 4 7 3 5 6 2 \n"
     ]
    }
   ],
   "source": [
    "import numpy as np\n",
    "M = 9\n",
    "def puzzle(a):\n",
    "    for i in range(M):\n",
    "        for j in range(M):\n",
    "            print(a[i][j],end = \" \")\n",
    "        print()\n",
    "def solve(grid, row, col, num):\n",
    "    for x in range(9):\n",
    "        if grid[row][x] == num:\n",
    "            return False\n",
    "             \n",
    "    for x in range(9):\n",
    "        if grid[x][col] == num:\n",
    "            return False\n",
    " \n",
    " \n",
    "    startRow = row - row % 3\n",
    "    startCol = col - col % 3\n",
    "    for i in range(3):\n",
    "        for j in range(3):\n",
    "            if grid[i + startRow][j + startCol] == num:\n",
    "                return False\n",
    "    return True\n",
    " \n",
    "def Suduko(grid, row, col):\n",
    " \n",
    "    if (row == M - 1 and col == M):\n",
    "        return True\n",
    "    if col == M:\n",
    "        row += 1\n",
    "        col = 0\n",
    "    if grid[row][col] > 0:\n",
    "        return Suduko(grid, row, col + 1)\n",
    "    for num in range(1, M + 1, 1): \n",
    "     \n",
    "        if solve(grid, row, col, num):\n",
    "         \n",
    "            grid[row][col] = num\n",
    "            if Suduko(grid, row, col + 1):\n",
    "                return True\n",
    "        grid[row][col] = 0\n",
    "    return False\n",
    " \n",
    "'''0 means the cells where no value is assigned'''\n",
    "grid = [[9,7,0,6,0,0,0,0,0],\n",
    "                [2,0,1,0,3,0,0,0,0],\n",
    "                [0,0,0,0,0,0,6,4,0],\n",
    "                [0,0,0,5,0,0,0,0,4],\n",
    "                [0,8,6,3,0,2,0,0,9],\n",
    "                [0,0,0,1,0,0,0,3,0],\n",
    "                [5,0,0,0,0,0,7,0,0],\n",
    "                [0,2,0,0,5,0,0,9,0],\n",
    "                [0,0,0,4,0,0,0,6,2]]\n",
    " \n",
    "if (Suduko(grid, 0, 0)):\n",
    "    puzzle(grid)\n",
    "else:\n",
    "    print(\"Solution does not exist:\")"
   ]
  },
  {
   "cell_type": "code",
   "execution_count": null,
   "id": "4186f679",
   "metadata": {},
   "outputs": [],
   "source": []
  }
 ],
 "metadata": {
  "kernelspec": {
   "display_name": "Python 3",
   "language": "python",
   "name": "python3"
  },
  "language_info": {
   "codemirror_mode": {
    "name": "ipython",
    "version": 3
   },
   "file_extension": ".py",
   "mimetype": "text/x-python",
   "name": "python",
   "nbconvert_exporter": "python",
   "pygments_lexer": "ipython3",
   "version": "3.8.8"
  }
 },
 "nbformat": 4,
 "nbformat_minor": 5
}
