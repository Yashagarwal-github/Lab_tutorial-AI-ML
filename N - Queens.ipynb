{
 "cells": [
  {
   "cell_type": "code",
   "execution_count": 7,
   "id": "10a6c1b5",
   "metadata": {},
   "outputs": [
    {
     "name": "stdout",
     "output_type": "stream",
     "text": [
      "Enter size of board :5\n",
      "10000\n",
      "00010\n",
      "01000\n",
      "00001\n",
      "00100\n"
     ]
    }
   ],
   "source": [
    "def queen_safe (board, row, col, n ):\n",
    "    for c in range (col,-1,-1): \n",
    "        if board[row][c] == 1:\n",
    "            return False\n",
    "    i = row\n",
    "    j = col\n",
    "    while i >= 0 and j >= 0 :\n",
    "        if board[i][j]==1:\n",
    "            return False\n",
    "        i -=1\n",
    "        j -=1\n",
    "    i = row\n",
    "    j = col\n",
    "    while i < n and j >= 0 :\n",
    "        if board[i][j] == 1 :\n",
    "            return False \n",
    "        i += 1\n",
    "        j -= 1 \n",
    "    return True\n",
    "\n",
    "def nQueens (board, col, n) :\n",
    "    if col>=n: \n",
    "        return True\n",
    "    for i in range (n):\n",
    "        if queen_safe (board, i, col, n):\n",
    "            board[i][col] = 1 \n",
    "            if nQueens (board, col+1, n ) :\n",
    "                return True\n",
    "            board[i][col] = 0\n",
    "    return False\n",
    "\n",
    "def make_board(n):\n",
    "    board=[[0 for j in range (n)] for i in range (n)] \n",
    "    if nQueens(board, 0, n ) == True : \n",
    "        for i in range (n): \n",
    "            for j in range (n) :\n",
    "                print (board[i][j], end = '') \n",
    "            print()\n",
    "    else:\n",
    "        print(\"not possible\")\n",
    "        \n",
    "n = int(input('Enter size of board :'))\n",
    "make_board(n)"
   ]
  },
  {
   "cell_type": "code",
   "execution_count": null,
   "id": "7a133121",
   "metadata": {},
   "outputs": [],
   "source": []
  }
 ],
 "metadata": {
  "kernelspec": {
   "display_name": "Python 3",
   "language": "python",
   "name": "python3"
  },
  "language_info": {
   "codemirror_mode": {
    "name": "ipython",
    "version": 3
   },
   "file_extension": ".py",
   "mimetype": "text/x-python",
   "name": "python",
   "nbconvert_exporter": "python",
   "pygments_lexer": "ipython3",
   "version": "3.8.8"
  }
 },
 "nbformat": 4,
 "nbformat_minor": 5
}
